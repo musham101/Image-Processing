{
 "cells": [
  {
   "cell_type": "code",
   "execution_count": 14,
   "id": "dae2e550",
   "metadata": {},
   "outputs": [],
   "source": [
    "import cv2\n",
    "import random\n",
    "import numpy as np"
   ]
  },
  {
   "cell_type": "code",
   "execution_count": 15,
   "id": "67c2304f",
   "metadata": {},
   "outputs": [],
   "source": [
    "original_img = cv2.imread('image.png')"
   ]
  },
  {
   "cell_type": "code",
   "execution_count": 16,
   "id": "985b355c",
   "metadata": {},
   "outputs": [
    {
     "data": {
      "text/plain": [
       "-1"
      ]
     },
     "execution_count": 16,
     "metadata": {},
     "output_type": "execute_result"
    }
   ],
   "source": [
    "cv2.imshow('image', original_img)\n",
    "cv2.waitKey(0)"
   ]
  },
  {
   "cell_type": "code",
   "execution_count": 17,
   "id": "41e93844",
   "metadata": {},
   "outputs": [],
   "source": [
    "def add_noise(img):\n",
    " \n",
    "    # Getting the dimensions of the image\n",
    "    row , col = img.shape\n",
    "     \n",
    "    # Randomly pick some pixels in the\n",
    "    # image for coloring them white\n",
    "    # Pick a random number between 300 and 10000\n",
    "    number_of_pixels = random.randint(300, 10000)\n",
    "    for i in range(number_of_pixels):\n",
    "       \n",
    "        # Pick a random y coordinate\n",
    "        y_coord=random.randint(0, row - 1)\n",
    "         \n",
    "        # Pick a random x coordinate\n",
    "        x_coord=random.randint(0, col - 1)\n",
    "         \n",
    "        # Color that pixel to white\n",
    "        img[y_coord][x_coord] = 255\n",
    "         \n",
    "    # Randomly pick some pixels in\n",
    "    # the image for coloring them black\n",
    "    # Pick a random number between 300 and 10000\n",
    "    number_of_pixels = random.randint(300 , 10000)\n",
    "    for i in range(number_of_pixels):\n",
    "       \n",
    "        # Pick a random y coordinate\n",
    "        y_coord=random.randint(0, row - 1)\n",
    "         \n",
    "        # Pick a random x coordinate\n",
    "        x_coord=random.randint(0, col - 1)\n",
    "         \n",
    "        # Color that pixel to black\n",
    "        img[y_coord][x_coord] = 0\n",
    "         \n",
    "    return img"
   ]
  },
  {
   "cell_type": "code",
   "execution_count": 18,
   "id": "a9d13822",
   "metadata": {},
   "outputs": [],
   "source": [
    "grey_img = cv2.imread('image.png', 0)"
   ]
  },
  {
   "cell_type": "code",
   "execution_count": 19,
   "id": "af92020b",
   "metadata": {},
   "outputs": [
    {
     "data": {
      "text/plain": [
       "-1"
      ]
     },
     "execution_count": 19,
     "metadata": {},
     "output_type": "execute_result"
    }
   ],
   "source": [
    "cv2.imshow('image', grey_img)\n",
    "cv2.waitKey(0)"
   ]
  },
  {
   "cell_type": "code",
   "execution_count": 20,
   "id": "4871cb67",
   "metadata": {},
   "outputs": [
    {
     "data": {
      "text/plain": [
       "True"
      ]
     },
     "execution_count": 20,
     "metadata": {},
     "output_type": "execute_result"
    }
   ],
   "source": [
    "cv2.imwrite('noise_image.png', add_noise(grey_img))"
   ]
  },
  {
   "cell_type": "code",
   "execution_count": 24,
   "id": "b8ec9be9",
   "metadata": {},
   "outputs": [],
   "source": [
    "noise_img = cv2.imread('noise_image.png', 0)"
   ]
  },
  {
   "cell_type": "code",
   "execution_count": 27,
   "id": "932a4a6e",
   "metadata": {},
   "outputs": [
    {
     "data": {
      "text/plain": [
       "-1"
      ]
     },
     "execution_count": 27,
     "metadata": {},
     "output_type": "execute_result"
    }
   ],
   "source": [
    "cv2.imshow('image', noise_img)\n",
    "cv2.waitKey(0)"
   ]
  },
  {
   "cell_type": "code",
   "execution_count": 28,
   "id": "67eb1cea",
   "metadata": {},
   "outputs": [
    {
     "data": {
      "text/plain": [
       "True"
      ]
     },
     "execution_count": 28,
     "metadata": {},
     "output_type": "execute_result"
    }
   ],
   "source": [
    "m, n = noise_img.shape\n",
    "  \n",
    "# Develop Averaging filter(3, 3) mask\n",
    "mask = np.ones([3, 3], dtype = int)\n",
    "mask = mask / 9\n",
    "  \n",
    "# Convolve the 3X3 mask over the image\n",
    "img_new = np.zeros([m, n])\n",
    " \n",
    "for i in range(1, m-1):\n",
    "    for j in range(1, n-1):\n",
    "        temp = noise_img[i-1, j-1]*mask[0, 0]+noise_img[i-1, j]*mask[0, 1]+noise_img[i-1, j + 1]*mask[0, 2]+noise_img[i, j-1]*mask[1, 0]+ noise_img[i, j]*mask[1, 1]+noise_img[i, j + 1]*mask[1, 2]+noise_img[i + 1, j-1]*mask[2, 0]+noise_img[i + 1, j]*mask[2, 1]+noise_img[i + 1, j + 1]*mask[2, 2]\n",
    "        \n",
    "        img_new[i, j]= temp\n",
    "         \n",
    "img_new = img_new.astype(np.uint8)\n",
    "cv2.imwrite('Averaging Filter.png', img_new)"
   ]
  },
  {
   "cell_type": "code",
   "execution_count": 29,
   "id": "46cb2572",
   "metadata": {},
   "outputs": [],
   "source": [
    "avg_filter_img = cv2.imread('Averaging Filter.png')"
   ]
  },
  {
   "cell_type": "code",
   "execution_count": 30,
   "id": "592d5a5f",
   "metadata": {},
   "outputs": [
    {
     "data": {
      "text/plain": [
       "-1"
      ]
     },
     "execution_count": 30,
     "metadata": {},
     "output_type": "execute_result"
    }
   ],
   "source": [
    "cv2.imshow('image', avg_filter_img)\n",
    "cv2.waitKey(0)"
   ]
  },
  {
   "cell_type": "code",
   "execution_count": 33,
   "id": "f95807eb",
   "metadata": {},
   "outputs": [
    {
     "data": {
      "text/plain": [
       "True"
      ]
     },
     "execution_count": 33,
     "metadata": {},
     "output_type": "execute_result"
    }
   ],
   "source": [
    "# Obtain the number of rows and columns\n",
    "# of the image\n",
    "m, n = noise_img.shape\n",
    "  \n",
    "# Traverse the image. For every 3X3 area,\n",
    "# find the median of the pixels and\n",
    "# replace the center pixel by the median\n",
    "median_filtered_image = np.zeros([m, n])\n",
    " \n",
    "for i in range(1, m-1):\n",
    "    for j in range(1, n-1):\n",
    "        temp = [noise_img[i-1, j-1],\n",
    "               noise_img[i-1, j],\n",
    "               noise_img[i-1, j + 1],\n",
    "               noise_img[i, j-1],\n",
    "               noise_img[i, j],\n",
    "               noise_img[i, j + 1],\n",
    "               noise_img[i + 1, j-1],\n",
    "               noise_img[i + 1, j],\n",
    "               noise_img[i + 1, j + 1]]\n",
    "         \n",
    "        temp = sorted(temp)\n",
    "        median_filtered_image[i, j]= temp[4]\n",
    " \n",
    "median_filtered_image = median_filtered_image.astype(np.uint8)\n",
    "cv2.imwrite('Median_Filtered.png', median_filtered_image)"
   ]
  },
  {
   "cell_type": "code",
   "execution_count": 34,
   "id": "a0dc5bed",
   "metadata": {},
   "outputs": [],
   "source": [
    "med_filter_img = cv2.imread('Median_Filtered.png')"
   ]
  },
  {
   "cell_type": "code",
   "execution_count": 35,
   "id": "05f39ca3",
   "metadata": {},
   "outputs": [
    {
     "data": {
      "text/plain": [
       "-1"
      ]
     },
     "execution_count": 35,
     "metadata": {},
     "output_type": "execute_result"
    }
   ],
   "source": [
    "cv2.imshow('image', med_filter_img)\n",
    "cv2.waitKey(0)"
   ]
  },
  {
   "cell_type": "code",
   "execution_count": null,
   "id": "a7f4222e",
   "metadata": {},
   "outputs": [],
   "source": []
  }
 ],
 "metadata": {
  "kernelspec": {
   "display_name": "Python 3 (ipykernel)",
   "language": "python",
   "name": "python3"
  },
  "language_info": {
   "codemirror_mode": {
    "name": "ipython",
    "version": 3
   },
   "file_extension": ".py",
   "mimetype": "text/x-python",
   "name": "python",
   "nbconvert_exporter": "python",
   "pygments_lexer": "ipython3",
   "version": "3.9.7"
  }
 },
 "nbformat": 4,
 "nbformat_minor": 5
}
